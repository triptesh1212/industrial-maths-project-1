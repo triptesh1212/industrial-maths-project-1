{
 "cells": [
  {
   "cell_type": "markdown",
   "id": "60b414f0-ff37-4e9a-9d31-5618682b6b54",
   "metadata": {},
   "source": [
    "$S(x,t)$ is sampled at $M$ positions along the conveyor belt periodically for $N$ time intervals $\\Delta t$   $S^n_m=S(x_m,t_n)$ \n",
    "\n",
    "The height of the sandpile at the beginning of the conveyor belt is $H_0(t)=0$  <em>(Dirichlet)</em>\n",
    "\n",
    "The rate at which the sand falls of the end of the conveyor belt is proportional to the height of the sand pile? $\\partial_x h(L,t)=\\alpha h(L,t)$ <em>(Robin)</em>\n",
    "\n",
    "$$\n",
    "\\begin{align}\n",
    "AH^{n+1} &= b\\quad \\text{where}\\quad b=H^n + S^n\\Delta t \\tag{1}\\\\\n",
    "H_M^{n+1} &= (2\\alpha \\Delta x) H_{M-1}^{n+1} + H_{M-2}^{n+1}\\\\\n",
    "H_0 &= 0 \n",
    "\\end{align}\n",
    "$$"
   ]
  },
  {
   "cell_type": "markdown",
   "id": "a0ac9bc5-49b7-4e78-a0bc-565dbf6f4224",
   "metadata": {},
   "source": [
    "Assume that sand is dispensed at the beginning of the conveyor belt. \n",
    "Sand is poured into a funnel from another process from above, and falls through the funnel onto the beginning of the conveyor belt to be transported and subsequently processed.\n",
    "Assume that the lower end of the funnel measures 15cm in diamter. \n",
    "$$\n",
    "S(x,t) = \n",
    "\\begin{cases}\n",
    "0.02 & \\text{if } 0<x\\leq 0.15 \\\\\n",
    "0  & \\text{otherwise}\n",
    "\\end{cases}\n",
    "$$\n"
   ]
  },
  {
   "cell_type": "code",
   "execution_count": 1,
   "id": "17231a29-519b-4aaf-8704-d604ece58d85",
   "metadata": {},
   "outputs": [],
   "source": [
    "import numpy as np\n",
    "import matplotlib.pyplot as plt\n",
    "from scipy.sparse        import diags_array\n",
    "from scipy.sparse.linalg import spsolve"
   ]
  },
  {
   "cell_type": "code",
   "execution_count": 20,
   "id": "7860a6d5-f133-4951-a752-f950f16f41c8",
   "metadata": {},
   "outputs": [],
   "source": [
    "L= 10.0 # 10m convyer belt, longest possible\n",
    "v= 0.5 # advection velocity, mid point of suggested speeds\n",
    "D= 0.008 # diffusion coefficient, small spreading of sand\n",
    "alpha = 0 # Robin coefficient\n",
    "s = 0.1 # source term, cont. rate of sand being added\n",
    "s_start = 0\n",
    "s_end = 0.15\n",
    "\n",
    "Nx = 200; Nt = 50000\n",
    "T = 40 # simulation length in seconds\n",
    "\n",
    "x = np.linspace(0, L, Nx+1)\n",
    "dx = x[1] - x[0] # grid spacing for finite differences\n",
    "\n",
    "t = np.linspace(0, T, Nt+1)\n",
    "dt = t[1] - t[0]"
   ]
  },
  {
   "cell_type": "code",
   "execution_count": 21,
   "id": "67515869-3448-4280-908d-1948586414f4",
   "metadata": {},
   "outputs": [],
   "source": [
    "def plotting(U,x,t, exact_handle = None):\n",
    "    # Set some markers and colours to make comparison easy\n",
    "    markers = ['x','s','d','+','o','.']\n",
    "    colours = ['xkcd:salmon','xkcd:golden rod','xkcd:teal','xkcd:purple','xkcd:slate','xkcd:silver']    \n",
    "    \n",
    "    # choose some (almost arbitrary) display times\n",
    "    disp_times = [0, Nt//25, Nt//15, Nt//7, Nt//4, Nt//2]\n",
    "\n",
    "    # Set up the figure\n",
    "    fig, ax = plt.subplots(1, 1, figsize=(12, 5))\n",
    "\n",
    "    if(exact_handle != None):\n",
    "        for i, idx_t in enumerate(disp_times):\n",
    "            label = 't = {0:.0e}'.format(t[idx_t]) if (0 < t[idx_t] < T) else 't = {0:.0f}'.format(t[idx_t])\n",
    "            ax.plot(x, exact_handle(x,t[idx_t]), color = colours[i], label = label)\n",
    "\n",
    "    for i, idx_t in enumerate(disp_times):\n",
    "        label = 't = {0:.0e}'.format(t[idx_t]) if (0 < t[idx_t] < T) else 't = {0:.0f}'.format(t[idx_t])\n",
    "        ax.plot(x[::2], U[idx_t][::2], linestyle = '', marker = markers[i], color = colours[i], label = label )\n",
    "\n",
    "    ax.legend(ncols = 2, loc = 'center',  bbox_to_anchor=(1.2, 0.5))\n",
    "    ax.set_xlim(0-1e-2,11.0+1e-2)    # zoom in on area of interest with a bit of leeway each end\n",
    "    plt.xlabel(\"Space (x)\")\n",
    "    plt.ylabel(\"Solution\")\n",
    "    plt.show()"
   ]
  },
  {
   "cell_type": "markdown",
   "id": "450e1780-dfb8-4e6e-9ccb-37cb0061b81e",
   "metadata": {},
   "source": [
    "We solve the tridiagonal system in equation (1)"
   ]
  },
  {
   "cell_type": "code",
   "execution_count": 22,
   "id": "b355cacf-a5ab-4a2e-97db-c3183618f3b6",
   "metadata": {},
   "outputs": [],
   "source": [
    "C = (D*dt)/(dx**2)\n",
    "U = (v*dt)/dx"
   ]
  },
  {
   "cell_type": "code",
   "execution_count": 23,
   "id": "8c7536b7-fc87-4934-ac14-076488defa6d",
   "metadata": {},
   "outputs": [],
   "source": [
    "lower = -((2*C) + U) * np.ones(Nx+1)\n",
    "main  = (1 + 2*C + U - C*((2*alpha*dx)/D)) * np.ones(Nx+1)\n",
    "upper = -C * np.ones(Nx+1)\n",
    "upper[0] = 0 # Dirichlet B.C. 0\n",
    "\n",
    "A = diags_array([lower, main, upper], offsets=(-1, 0, 1), shape=(Nx+1, Nx+1), format='csr')"
   ]
  },
  {
   "cell_type": "code",
   "execution_count": 24,
   "id": "c1c894f1-b82d-4fe1-b397-20a96d14f4d6",
   "metadata": {},
   "outputs": [
    {
     "data": {
      "image/png": "[encoded data removed]",
      "text/plain": [
       "<Figure size 1200x500 with 1 Axes>"
      ]
     },
     "metadata": {},
     "output_type": "display_data"
    }
   ],
   "source": [
    "H = np.zeros((Nt+1,Nx+1))\n",
    "S = np.zeros((Nt+1,Nx+1))\n",
    "\n",
    "for i in range(Nx+1):\n",
    "    delta = i*dx\n",
    "    if(s_start <= delta and delta <= s_end):\n",
    "        S[:,i] = s\n",
    "\n",
    "for n in range(0, Nt):\n",
    "    rhs = H[n] + S[n]*dt\n",
    "    H[n+1] = spsolve(A, rhs)\n",
    "\n",
    "plotting(H,x,t)"
   ]
  },
  {
   "cell_type": "code",
   "execution_count": null,
   "id": "64257488-050f-4891-968a-ebf5fa9be469",
   "metadata": {},
   "outputs": [],
   "source": []
  },
  {
   "cell_type": "code",
   "execution_count": null,
   "id": "c63049d8-dd34-4046-954a-b77f2e1a1c9d",
   "metadata": {},
   "outputs": [],
   "source": []
  }
 ],
 "metadata": {
  "kernelspec": {
   "display_name": "Python 3 (ipykernel)",
   "language": "python",
   "name": "python3"
  },
  "language_info": {
   "codemirror_mode": {
    "name": "ipython",
    "version": 3
   },
   "file_extension": ".py",
   "mimetype": "text/x-python",
   "name": "python",
   "nbconvert_exporter": "python",
   "pygments_lexer": "ipython3",
   "version": "3.13.5"
  }
 },
 "nbformat": 4,
 "nbformat_minor": 5
}
